{
 "cells": [
  {
   "cell_type": "code",
   "execution_count": 1,
   "metadata": {},
   "outputs": [
    {
     "name": "stdout",
     "output_type": "stream",
     "text": [
      "{'Troels', 'Benny', 'Torben', 'Søren', 'Hans'}\n",
      "{'Tine'}\n",
      "1\n",
      "{'Tine'}\n",
      "{'James', 'Lars', 'Niels', 'Ole', 'Anna', 'Stine', 'Claus', 'Allan', 'Bent'}\n"
     ]
    }
   ],
   "source": [
    "# 1. Model an organisation of employees, management and board of directors in 3 sets.\n",
    "bod = {'Benny','Hans','Tine','Torben','Troels','Søren'}\n",
    "management = {'Tine','Trunte','Rane'}\n",
    "employees = {'Niels','Anna','Tine','Ole','Trunte','Bent','Rane','Allan','Stine','Claus','James','Lars'}\n",
    "\n",
    "#Who in the board of directors is not an employee?\n",
    "answer1 = bod.difference(employees)\n",
    "print(answer1);\n",
    "\n",
    "#Who in the board of directors is also an employee?\n",
    "answer2 = bod.intersection(employees)\n",
    "print(answer2);\n",
    "\n",
    "#How many of the management is also member of the board?\n",
    "answer3 = management.intersection(bod)\n",
    "print(len(answer3));\n",
    "\n",
    "#All members of the managent also an employee\n",
    "#Dette er ikke rigtigt et spørgsmål??\n",
    "\n",
    "#All members of the management also in the board?\n",
    "#Igen, ikke rigtigt et spørgsmål...?\n",
    "\n",
    "#Who is an employee, member of the management, and a member of the board?\n",
    "answer6 = employees.intersection(management).intersection(bod)\n",
    "print(answer6)\n",
    "\n",
    "#Who of the employee is neither a memeber or the board or management?\n",
    "answer7 = employees.difference(management).difference(bod)\n",
    "print(answer7)\n"
   ]
  },
  {
   "cell_type": "code",
   "execution_count": 2,
   "metadata": {},
   "outputs": [
    {
     "name": "stdout",
     "output_type": "stream",
     "text": [
      "[('a', 'Alpha'), ('b', 'Beta'), ('g', 'Gamma')]\n"
     ]
    }
   ],
   "source": [
    "#2. Create a list of tuples from the folowing datastructure\n",
    "{'a': 'Alpha', 'b' : 'Beta', 'g': 'Gamma'}\n",
    "\n",
    "dict = {'a': 'Alpha', 'b': 'Beta', 'g': 'Gamma'}\n",
    "list = [(key, value) for key, value in dict.items()]\n",
    "\n",
    "print(list)"
   ]
  },
  {
   "cell_type": "code",
   "execution_count": 54,
   "metadata": {},
   "outputs": [
    {
     "name": "stdout",
     "output_type": "stream",
     "text": [
      "{'y', 'å', 'a', 'e', 'i', 'æ', 'ø', 'u', 'o'} {'y', 'å', 'a', 'e', 'i', 'æ', 'ø', 'u', 'o'}\n",
      "{'å', 'æ', 'ø'} {'å', 'æ', 'ø'}\n",
      "{'æ', 'å', 'ø'} {'æ', 'å', 'ø'}\n",
      "{'y', 'a', 'e', 'i', 'u', 'o'} {'y', 'a', 'e', 'i', 'u', 'o'}\n"
     ]
    }
   ],
   "source": [
    "#3. From these 2 sets:\n",
    "set1 = {'a', 'e', 'i', 'o', 'u', 'y'}\n",
    "\n",
    "set2 = {'a', 'e', 'i', 'o', 'u', 'y', 'æ' ,'ø', 'å'}\n",
    "\n",
    "#Create a:\n",
    "#Union\n",
    "union = set1.union(set2) #methods\n",
    "union2 = set1|set2 #oprators\n",
    "print(union, union2)\n",
    "\n",
    "#Symmetric Difference\n",
    "sym_dif = set1.symmetric_difference(set2) #methods\n",
    "sym_dif2 = set1^set2 #oprators\n",
    "print(sym_dif, sym_dif2)\n",
    "\n",
    "#Difference\n",
    "dif = set2.difference(set1) #methods\n",
    "dif2 = set2-set1 #oprators\n",
    "print(dif,dif2)\n",
    "\n",
    "#Disjoint\n",
    "disjoint = set1.intersection(set2) #methods\n",
    "disjoint2 = set1&set2 #oprators\n",
    "print(disjoint,disjoint2)\n"
   ]
  },
  {
   "cell_type": "code",
   "execution_count": 20,
   "metadata": {},
   "outputs": [
    {
     "name": "stdout",
     "output_type": "stream",
     "text": [
      "{'JAN': 1, 'FEB': 2, 'MAR': 3, 'APR': 4, 'MAY': 5, 'JUN': 6, 'JUL': 7, 'AUG': 8, 'SEP': 9, 'OCT': 10, 'NOV': 11, 'DEC': 12}\n",
      "['8', 'MAR', '85']\n",
      "8-3-1985\n",
      "('8', '3', '1985') ('21', '4', '1991') ('21', '2', '1992') ('13', '7', '1993')\n"
     ]
    }
   ],
   "source": [
    "# 4.Date Decoder.\n",
    "# A date of the form 8-MAR-85 includes the name of the month, which must be translated to a number.\n",
    "date_example = '8-MAR-85'\n",
    "\n",
    "#Create a dict suitable for decoding month names to numbers.\n",
    "months = {\"JAN\": 1,\"FEB\": 2,\"MAR\": 3,\"APR\": 4,\"MAY\": 5,\"JUN\": 6,\"JUL\": 7,\"AUG\": 8,\"SEP\": 9,\"OCT\": 10,\"NOV\": 11,\"DEC\": 12}\n",
    "print(months)\n",
    "\n",
    "#Create a function which uses string operations to split the date into 3 items using the \"-\" character.\n",
    "def split_string (date):\n",
    "    return date.split('-')\n",
    "\n",
    "answer1 = split_string(date_example)\n",
    "print(answer1)\n",
    "\n",
    "#Translate the month, correct the year to include all of the digits.\n",
    "def replace_month_with_number(date):\n",
    "    date_list = split_string(date)\n",
    "    date_list[1] = str(months.get(date_list[1], date_list[1]))\n",
    "    if len(date_list[2]) == 2:\n",
    "        date_list[2] = '19' + date_list[2] # Ændrer det f.eks\n",
    "    return \"-\".join(date_list)\n",
    "\n",
    "answer2 = replace_month_with_number(date_example)\n",
    "print(answer2)\n",
    "\n",
    "#The function will accept a date in the \"dd-MMM-yy\" format and respond with a tuple of ( y , m , d ).\n",
    "def date_to_tuple(date):\n",
    "    date_list = split_string(date)\n",
    "    date_list[1] = str(months.get(date_list[1], date_list[1]))\n",
    "    if len(date_list[2]) == 2:\n",
    "        date_list[2] = '19' + date_list[2] # Går udfra der regnes med datoer fra det 20 århundrede da vi ikke er noget til 2085 endnu.\n",
    "    return tuple(date_list)\n",
    "\n",
    "#Ekstra eksempler\n",
    "date_example2 = '21-APR-91'\n",
    "date_example3 = '21-FEB-92'\n",
    "date_example4 = '13-JUL-93'\n",
    "\n",
    "answer3 = date_to_tuple(date_example)\n",
    "answer4 = date_to_tuple(date_example2)\n",
    "answer5 = date_to_tuple(date_example3)\n",
    "answer6 = date_to_tuple(date_example4)\n",
    "\n",
    "print(answer3,answer4,answer5,answer6)"
   ]
  },
  {
   "cell_type": "code",
   "execution_count": 15,
   "metadata": {},
   "outputs": [
    {
     "name": "stdout",
     "output_type": "stream",
     "text": [
      "Disse venner kommer ikke: {'Freja', 'Anna', 'Mikkel', 'Ida'}, Disse venner kommer: {'Mathias', 'Andreas', 'Sofia', 'Lukas', 'Emma', 'Oliver'}\n"
     ]
    }
   ],
   "source": [
    "# 5. Party exercise\n",
    "\n",
    "# You are organizing a party and have two lists of friends. One list contains the friends you have invited, and the other list contains the friends who have RSVP'd.\n",
    "\n",
    "# You want to find out who has not RSVP'd, who was not invited but RSVP'd, and who are common in both lists.\n",
    "\n",
    "# Task: Write a Python program that takes two sets of names, one set containing the names of friends invited to the party and another set containing the names of friends who have RSVP'd.\n",
    "# The program should then print out the names of friends who have not RSVP'd, the names of friends who were not invited but RSVP'd, and the names of friends who are common in both lists (i.e., invited and RSVP'd).\n",
    "\n",
    "# Der er et problem med spørgsmåls teksten, da en ven ikke kan være RSVP hvis de ikke er inviteret. Jeg går derfor ud fra at denne del kan ignoreres.\n",
    "friends = {\"Mikkel\", \"Emma\", \"Oliver\", \"Freja\", \"Andreas\", \"Ida\", \"Lukas\", \"Sofia\", \"Mathias\", \"Anna\"}\n",
    "rsvp = {\"Emma\", \"Oliver\", \"Andreas\", \"Lukas\", \"Sofia\", \"Mathias\"}\n",
    "\n",
    "def party_respons(friends, rsvp):\n",
    "    not_attending = friends.difference(rsvp)\n",
    "    attending = friends.intersection(rsvp)\n",
    "    text = 'Disse venner kommer ikke: ' + str(not_attending) + ', Disse venner kommer: ' + str(attending)\n",
    "    return text\n",
    "\n",
    "print(party_respons(friends,rsvp))\n",
    "    "
   ]
  },
  {
   "cell_type": "code",
   "execution_count": 22,
   "metadata": {},
   "outputs": [
    {
     "name": "stdout",
     "output_type": "stream",
     "text": [
      "{'Freja': 86, 'Sofie': 93, 'Ida': 89, 'Anna': 92, 'Maria': 88, 'Laura': 97, 'Magnus': 90, 'Nikolaj': 91}\n"
     ]
    }
   ],
   "source": [
    "# 6. You are a teacher and have a dictionary containing the names of your students as keys and their grades as values.\n",
    "\n",
    "# You want to update the grades of some students and then print out the names of all students who have a grade higher than 85.\n",
    "\n",
    "# Task: Write a Python program that takes a dictionary of students and their grades, updates the grades of specific students, and then prints out the names of all students who have a grade higher than 85.\n",
    "\n",
    "student_grades = {\n",
    "    \"Anders\": 78,\n",
    "    \"Freja\": 86,\n",
    "    \"Mikkel\": 55,\n",
    "    \"Sofie\": 93,\n",
    "    \"Lukas\": 64,\n",
    "    \"Emma\": 72,\n",
    "    \"Mathias\": 48,\n",
    "    \"Ida\": 89,\n",
    "    \"Oscar\": 75,\n",
    "    \"Anna\": 92,\n",
    "    \"Rasmus\": 83,\n",
    "    \"Maria\": 88,\n",
    "    \"Jacob\": 54,\n",
    "    \"Emilie\": 61,\n",
    "    \"Alexander\": 52,\n",
    "    \"Laura\": 97,\n",
    "    \"Magnus\": 45,\n",
    "    \"Clara\": 79,\n",
    "    \"Nikolaj\": 91,\n",
    "    \"Mia\": 68\n",
    "}\n",
    "\n",
    "updates = {\n",
    "    \"Mathias\": 54,\n",
    "    \"Magnus\": 90,\n",
    "}\n",
    "\n",
    "def update_grades_and_print (student_grades, updates):\n",
    "    student_grades = {**student_grades, **updates}\n",
    "    high_scores = {name: grade for name, grade in student_grades.items() if grade >= 85}\n",
    "    return high_scores\n",
    "\n",
    "print(update_grades_and_print(student_grades, updates))\n",
    "    \n"
   ]
  }
 ],
 "metadata": {
  "kernelspec": {
   "display_name": "Python 3",
   "language": "python",
   "name": "python3"
  },
  "language_info": {
   "codemirror_mode": {
    "name": "ipython",
    "version": 3
   },
   "file_extension": ".py",
   "mimetype": "text/x-python",
   "name": "python",
   "nbconvert_exporter": "python",
   "pygments_lexer": "ipython3",
   "version": "3.11.4"
  },
  "orig_nbformat": 4
 },
 "nbformat": 4,
 "nbformat_minor": 2
}
